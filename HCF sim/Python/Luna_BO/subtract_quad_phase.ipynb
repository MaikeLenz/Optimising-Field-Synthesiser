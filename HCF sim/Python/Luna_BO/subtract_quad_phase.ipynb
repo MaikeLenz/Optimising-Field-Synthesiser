{
 "cells": [
  {
   "cell_type": "code",
   "execution_count": 36,
   "id": "5dab42dc",
   "metadata": {},
   "outputs": [],
   "source": [
    "import matplotlib.pyplot as plt\n",
    "import numpy as np\n",
    "from scipy.fft import *\n",
    "from scipy.optimize import curve_fit\n",
    "from scipy import integrate\n",
    "\n",
    "filepath=\"D:\\\\Downloads\\\\300nm_optimum_data_angfreq.csv\""
   ]
  },
  {
   "cell_type": "code",
   "execution_count": 37,
   "id": "8920dfdf",
   "metadata": {},
   "outputs": [],
   "source": [
    "c=299792458\n",
    "\n",
    "def get_phase(omega,Eomega, lambda0):\n",
    "    #retrieves phase and subtracts the arbitrary phase at omega0\n",
    "    om0 = 2*np.pi*c/lambda0 #central frequency\n",
    "    om0_idx = np.argmin(np.abs(omega-om0))\n",
    " \n",
    "    domega = omega[2] - omega[1]\n",
    "    tau = np.pi/domega\n",
    "    phase_raw = np.angle(Eomega)\n",
    "    phase = np.unwrap(phase_raw - omega*tau)\n",
    "    phase=phase*(-1)#optics convention\n",
    "    phase -= phase[om0_idx]#subtract arbitrary phase offset\n",
    "    return phase\n"
   ]
  },
  {
   "cell_type": "code",
   "execution_count": 38,
   "id": "9a6d231f",
   "metadata": {},
   "outputs": [],
   "source": [
    "def moment(x,y,n): \n",
    "    \"\"\"\n",
    "    returns an integral of the nth moment of intensity over frequency\n",
    "    \"\"\"\n",
    "    integrand = np.array([]) #array of overlaps of the intensity with itself with a freq shift omega_shift\n",
    "    for i in range(len(x)):\n",
    "        integrand=np.append(integrand,y[i]*x[i]**n)\n",
    "    return integrate.simps(integrand,x) \n",
    "   \n"
   ]
  },
  {
   "cell_type": "code",
   "execution_count": 39,
   "id": "7add371f",
   "metadata": {},
   "outputs": [],
   "source": [
    "import pandas as pd\n",
    "df_0 = pd.read_csv(filepath,skipinitialspace=True)\n",
    "omega=df_0.iloc[:,0]\n",
    "Eomega_real=df_0.iloc[:,1]\n",
    "Eomega_imag=df_0.iloc[:,2]\n",
    "\n",
    "Eom = Eomega_real + 1j*Eomega_imag\n",
    "om=[]\n",
    "for i in omega:\n",
    "    om.append(i)\n",
    "om=np.array(om)"
   ]
  },
  {
   "cell_type": "code",
   "execution_count": 40,
   "metadata": {},
   "outputs": [
    {
     "name": "stdout",
     "output_type": "stream",
     "text": [
      "4.708152558676085e-07\n"
     ]
    },
    {
     "name": "stderr",
     "output_type": "stream",
     "text": [
      "C:\\Users\\ML\\AppData\\Local\\Temp/ipykernel_27248/1699462906.py:9: RuntimeWarning: divide by zero encountered in true_divide\n",
      "  λ=(2*np.pi*c)/om\n"
     ]
    }
   ],
   "source": [
    "\n",
    "# First get phase of pulse in freq domain\n",
    "om0 = moment(om,np.abs(Eom)**2,1)/moment(om,np.abs(Eom)**2,0) # Determine central frequency\n",
    "c=299792458\n",
    "lambda0 = (2*np.pi*c)/om0\n",
    "print(lambda0)\n",
    "phase = get_phase(om, Eom, lambda0)\n",
    "\n",
    "# Smooth electric field using super Gaussian filter\n",
    "λ=(2*np.pi*c)/om\n",
    "\n",
    "\n",
    "\n",
    "filter = []\n",
    "for i in range(len(λ)):\n",
    "    filter.append(np.exp(-((λ[i]-300e-9)/(300e-9*0.1))**4))\n",
    "\n",
    "Eom_smooth = []\n",
    "for i in range(len(Eom)):\n",
    "    Eom_smooth.append(Eom[i]*filter[i])"
   ]
  },
  {
   "cell_type": "code",
   "execution_count": 41,
   "metadata": {},
   "outputs": [],
   "source": [
    "# Slice phase to only select part within pulse\n",
    "thresh = 0.1\n",
    "rows = np.where(np.abs(Eom_smooth)**2 > max(np.abs(Eom_smooth)**2)*thresh)[0]\n",
    "min_index = rows[0]\n",
    "max_index = rows[-1]\n",
    "\n",
    "phase_slice = phase[min_index-25:max_index+25]\n",
    "om_slice = om[min_index-25:max_index+25]"
   ]
  },
  {
   "cell_type": "code",
   "execution_count": 42,
   "metadata": {},
   "outputs": [],
   "source": [
    "# Fit a quadratic to the phase and remove this\n",
    "def quad(x, a, b, c):\n",
    "    return a*(x**2) + b*x + c\n",
    "quad_popt, _ = curve_fit(quad, om_slice, phase_slice, p0=[1,1,0])\n",
    "phase_to_remove = quad(om_slice, *quad_popt)\n",
    "new_phase = np.zeros(len(om))\n",
    "\n",
    "for i in range(len(phase_to_remove)):\n",
    "    new_phase[i+min_index-25] += phase_slice[i] - phase_to_remove[i]\n",
    "\n",
    "# Add the phase back to the intensity profile\n",
    "Eom_complex = []\n",
    "for i in range(len(om)):\n",
    "    Eom_complex.append(np.abs(Eom_smooth[i])*np.exp(-1j*new_phase[i]))"
   ]
  },
  {
   "cell_type": "code",
   "execution_count": 43,
   "id": "03d347a8",
   "metadata": {},
   "outputs": [
    {
     "data": {
      "image/png": "[encoded data removed]",
      "text/plain": [
       "<Figure size 432x288 with 1 Axes>"
      ]
     },
     "metadata": {
      "needs_background": "light"
     },
     "output_type": "display_data"
    }
   ],
   "source": [
    "# Now Fourier transform\n",
    "Et = np.fft.ifft(Eom_complex)\n",
    "\n",
    "dom = om[2] - om[1]\n",
    "df = dom/(2*np.pi)\n",
    "t = np.fft.fftshift(np.fft.fftfreq(len(Et), d=df))\n",
    "f2, axst = plt.subplots()\n",
    "axst.plot(t, np.abs(Et)**2, color='black', label='Optimum after 1000 iterations')\n",
    "axst.set_xlabel('Time (s)')\n",
    "axst.set_ylabel('Intensity (a.u.)')\n",
    "plt.legend()\n",
    "plt.show()"
   ]
  },
  {
   "cell_type": "code",
   "execution_count": null,
   "id": "8f772b03",
   "metadata": {},
   "outputs": [],
   "source": []
  },
  {
   "cell_type": "code",
   "execution_count": null,
   "id": "46bf31a3",
   "metadata": {},
   "outputs": [],
   "source": []
  }
 ],
 "metadata": {
  "interpreter": {
   "hash": "4ce0e62306dd6a5716965d4519ada776f947e6dfc145b604b11307c10277ef29"
  },
  "kernelspec": {
   "display_name": "Python 3.9.0 64-bit",
   "name": "python3"
  },
  "language_info": {
   "codemirror_mode": {
    "name": "ipython",
    "version": 3
   },
   "file_extension": ".py",
   "mimetype": "text/x-python",
   "name": "python",
   "nbconvert_exporter": "python",
   "pygments_lexer": "ipython3",
   "version": "3.9.0"
  }
 },
 "nbformat": 4,
 "nbformat_minor": 5
}
